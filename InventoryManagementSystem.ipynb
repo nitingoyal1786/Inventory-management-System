{
 "cells": [
  {
   "cell_type": "markdown",
   "id": "be719a7a-c43a-4509-b5b6-733e29bee4ad",
   "metadata": {},
   "source": [
    "# Product Details\n",
    "\n"
   ]
  },
  {
   "cell_type": "code",
   "execution_count": null,
   "id": "0e0a0fa3-d757-4fd3-b37f-b4873962a5b2",
   "metadata": {},
   "outputs": [],
   "source": [
    "1.Product ID\n",
    "2.Name of Product\n",
    "3.Price of Product\n",
    "4.Quantity"
   ]
  },
  {
   "cell_type": "code",
   "execution_count": null,
   "id": "91967491-250f-4c67-880a-9eecac0580e6",
   "metadata": {},
   "outputs": [],
   "source": [
    "# Noting the time of trasaction\n",
    "import time \n",
    "\n",
    "# Taking User Input\n",
    "user_name = input(\"Enter your Name: \")\n",
    "user_phoneNo = input(\"Enter Your Phone No. : \")\n",
    "user_Email = input(\"Enter Your Email id : \")\n",
    "user_product_id = input(\"Ente a product id: \")\n",
    "user_product_qn = input(\"Ente a product quantity: \")\n",
    "\n",
    "# Read inventory\n",
    "fd = open(\"inventory.txt\", \"r\")\n",
    "products = fd.readlines() \n",
    "\n",
    "updated_product_lst = []\n",
    "\n",
    "for product in products:\n",
    "    product_details = product.strip().split(\",\")#For each product, we split it further by commas to extract details like the product ID, name, and quantity and also  removes any extra whitespace or newline characters from the line, ensuring the data splits correctly.\n",
    "        \n",
    "    if (product_details[0] ==  user_product_id): \n",
    "        if(int(user_product_qn) <= int(product_details[3])): ## Checking enough quantity or not \n",
    "            print(\"---------------------------------------------------------\")\n",
    "            print(\"Product name       :   \",product_details[1])\n",
    "            print(\"price              :   \",product_details[2])\n",
    "            print(\"Quantity           :   \",user_product_qn)\n",
    "            print(\"---------------------------------------------------------\")\n",
    "            print(\"Billing of product : \"  ,int(user_product_qn)* int(product_details[2]))\n",
    "            print(\"---------------------------------------------------------\")\n",
    "            \n",
    "            product_details[3] = str(int(product_details[3]) - int(user_product_qn))\n",
    "            \n",
    "            ## Sales Text File generation\n",
    "            fd = open(\"Sales.txt\",'a')\n",
    "            sales_detail = user_name +\",\"+ user_phoneNo +\",\"+ user_Email + \",\" + product_details[1] +\",\"+ user_product_id +\",\"+ user_product_qn +\",\"+ str(int(user_product_qn) * int(product_details[2]))+ \",\" + time.ctime() +   \"\\n\"\n",
    "            fd.write(sales_detail)\n",
    "            fd.close()\n",
    "        else:\n",
    "            print(\"Sorry we have not much quantity\")\n",
    "            print(\"We have only\",product_details[3],\"Quantity.\")\n",
    "            print(\"Would you like to purchase them?\")\n",
    "\n",
    "            ch = input(\"Press Y/N\")\n",
    "            if(ch == \"y\" or ch == \"Y\"): ## Selling Entire Stock \n",
    "                print(\"---------------------------------------------------------\")\n",
    "                print(\"Product name       :   \",product_details[1])\n",
    "                print(\"price              :   \",product_details[2])\n",
    "                print(\"Quantity           :   \",product_details[3])\n",
    "                print(\"---------------------------------------------------------\")\n",
    "                print(\"Billing of product : \"  ,int(product_details[3])* int(product_details[2]))\n",
    "                print(\"---------------------------------------------------------\")\n",
    "              \n",
    "                \n",
    "                ## Sales Text File generation\n",
    "                fd = open(\"Sales.txt\",'a')\n",
    "                sales_detail = user_name +\",\"+ user_phoneNo +\",\"+ user_Email + \",\" + product_details[1] +\",\"+ user_product_id +\",\"+ product_details[3] +\",\"+ str(int(product_details[3]) * int(product_details[2]))+ \",\" + time.ctime() +   \"\\n\"\n",
    "                fd.write(sales_detail)\n",
    "                fd.close()\n",
    "                \n",
    "              \n",
    "                \n",
    "\n",
    "\n",
    "\n",
    "    ## Updating my inventory list\n",
    "    updated_product_lst.append(\",\".join(product_details) + \"\\n\")\n",
    "\n",
    "     \n",
    "  ## Updating my inventory text file\n",
    "with open(\"inventory.txt\", \"w\") as fd: # updating in the inventory text file also\n",
    "    fd.writelines(updated_product_lst)\n",
    "\n",
    "\n",
    "print(\"Inventory updated successfully.\")\n",
    "\n",
    "            "
   ]
  },
  {
   "cell_type": "code",
   "execution_count": null,
   "id": "71b31143-21a5-4967-a342-b8eeb9e097a3",
   "metadata": {},
   "outputs": [],
   "source": []
  }
 ],
 "metadata": {
  "kernelspec": {
   "display_name": "Python 3 (ipykernel)",
   "language": "python",
   "name": "python3"
  },
  "language_info": {
   "codemirror_mode": {
    "name": "ipython",
    "version": 3
   },
   "file_extension": ".py",
   "mimetype": "text/x-python",
   "name": "python",
   "nbconvert_exporter": "python",
   "pygments_lexer": "ipython3",
   "version": "3.12.7"
  }
 },
 "nbformat": 4,
 "nbformat_minor": 5
}
